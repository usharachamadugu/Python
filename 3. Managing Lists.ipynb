
    "                     Working with List\n",
    "##############################################################################"
   ]
  },
  {
   "cell_type": "markdown",
   "metadata": {},
   "source": [
    "People create lists to organize information and make it easier to access and change. You use lists in Python for the same reason. In many situations, you really do need some sort of organizational aid to hold data. For example, you\n",
    "might want to create a single place to look for days of the week or months of the year. The names of these items would appear in a list, much as they would if you needed to commit them to paper in the real world.\n",
    "\n",
    "Python always numbers the items for you. The numbers begin with 0, not with 1\n",
    "\n",
    "The computer doesn’t view lists in the same way that you do. It doesn’t have an internal notepad and use a pen to write on it. A computer has memory. The computer stores each item in a list in a separate memory location"
   ]
  },
  {
   "cell_type": "code",
   "execution_count": 1,
   "metadata": {},
   "outputs": [
    {
     "name": "stdout",
     "output_type": "stream",
     "text": [
      "['One', 1, 'Two', True]\n"
     ]
    }
   ],
   "source": [
    "# Creating List\n",
    "\n",
    "#Python lists can mix types. However, it’s always a best practice to restrict a list to a single type when you can.\n",
    "\n",
    "List1 = [\"One\", 1, \"Two\", True]\n",
    "print(List1)"
   ]
  },
  {
   "cell_type": "code",
   "execution_count": 2,
   "metadata": {},
   "outputs": [
    {
     "data": {
      "text/plain": [
       "['__add__',\n",
       " '__class__',\n",
       " '__contains__',\n",
       " '__delattr__',\n",
       " '__delitem__',\n",
       " '__dir__',\n",
       " '__doc__',\n",
       " '__eq__',\n",
       " '__format__',\n",
       " '__ge__',\n",
       " '__getattribute__',\n",
       " '__getitem__',\n",
       " '__gt__',\n",
       " '__hash__',\n",
       " '__iadd__',\n",
       " '__imul__',\n",
       " '__init__',\n",
       " '__init_subclass__',\n",
       " '__iter__',\n",
       " '__le__',\n",
       " '__len__',\n",
       " '__lt__',\n",
       " '__mul__',\n",
       " '__ne__',\n",
       " '__new__',\n",
       " '__reduce__',\n",
       " '__reduce_ex__',\n",
       " '__repr__',\n",
       " '__reversed__',\n",
       " '__rmul__',\n",
       " '__setattr__',\n",
       " '__setitem__',\n",
       " '__sizeof__',\n",
       " '__str__',\n",
       " '__subclasshook__',\n",
       " 'append',\n",
       " 'clear',\n",
       " 'copy',\n",
       " 'count',\n",
       " 'extend',\n",
       " 'index',\n",
       " 'insert',\n",
       " 'pop',\n",
       " 'remove',\n",
       " 'reverse',\n",
       " 'sort']"
      ]
     },
     "execution_count": 2,
     "metadata": {},
     "output_type": "execute_result"
    }
   ],
   "source": [
    "#Python displays a list of actions that you can perform using lists\n",
    "dir(List1)\n",
    "\n",
    "#The actions that appear without underscores are the main actions that you can perform using a list."
   ]
  },
  {
   "cell_type": "code",
   "execution_count": 3,
   "metadata": {},
   "outputs": [
    {
     "name": "stdout",
     "output_type": "stream",
     "text": [
      "['One', 1, 'Two', True]\n",
      "One\n",
      "1\n",
      "[1, 'Two']\n",
      "[1, 'Two', True]\n",
      "['One', 1, 'Two']\n",
      "True\n",
      "Two\n",
      "[1, 'Two']\n",
      "[]\n",
      "['One', 1, 'Two']\n",
      "T\n"
     ]
    }
   ],
   "source": [
    "#Accssing the List\n",
    "print(List1) \n",
    "print(List1[0])\n",
    "print(List1[1])\n",
    "print(List1[1:3])\n",
    "print(List1[1:])\n",
    "print(List1[:3])\n",
    "print(List1[-1])\n",
    "print(List1[-2])\n",
    "print(List1[-3:-1])\n",
    "print(List1[-1:-3])\n",
    "print(List1[0:-1])\n",
    "print(List1[2][0])"
   ]
  },
  {
   "cell_type": "markdown",
   "metadata": {},
   "source": [
    "### Modifying List\n",
    "\n",
    "Modifying a list means to change a particular entry, add a new entry, or remove an existing entry. To perform these tasks, you must sometimes read an entry. The concept of modification is found within the acronym CRUD, which stands for Create, Read,Update, and Delete."
   ]
  },
  {
   "cell_type": "code",
   "execution_count": 3,
   "metadata": {},
   "outputs": [
    {
     "name": "stdout",
     "output_type": "stream",
     "text": [
      "Values in the list are :  [1, 2, 3, 4, 5]\n",
      "Values in the list after updating are :  [1, 2, 9, 4, 5]\n"
     ]
    }
   ],
   "source": [
    "#Updating elements in the list\n",
    "\n",
    "data = [1,2,3,4,5]\n",
    "\n",
    "print(\"Values in the list are : \", data)\n",
    "\n",
    "data[2] = 9\n",
    "\n",
    "print(\"Values in the list after updating are : \", data)\n"
   ]
  },
  {
   "cell_type": "code",
   "execution_count": 3,
   "metadata": {},
   "outputs": [
    {
     "name": "stdout",
     "output_type": "stream",
     "text": [
      "Values in the list are :  ['One', 1, 'Two', True]\n",
      "Values in the list after Append are :  ['One', 1, 'Two', True, 'Appended']\n",
      "Assign to a variable : None\n",
      "['One', 1, 'Two', True, 'Appended', 'Appended']\n"
     ]
    }
   ],
   "source": [
    "print(\"Values in the list are : \",List1)\n",
    "\n",
    "#1 Add a new entry : append()\n",
    "List1.append(\"Appended\")\n",
    "\n",
    "print(\"Values in the list after Append are : \",List1)\n",
    "\n",
    "#It's import to understand that append returns \"None\". \n",
    "#This means that it usually doesn't make sense to reassign the return value:\n",
    "\n",
    "lst1 = List1.append(\"Appended\")\n",
    "print(\"Assign to a variable :\",lst1)\n",
    "\n",
    "lst2 = List1\n",
    "print(lst2)"
   ]
  },
  {
   "cell_type": "code",
   "execution_count": 6,
   "metadata": {},
   "outputs": [
    {
     "name": "stdout",
     "output_type": "stream",
     "text": [
      "['One', 1, 'Two', True, 'Appended', 'Appended']\n",
      "['One', 1, 'Two', True, 'Appended', 'Appended']\n",
      "['One', 1, 'Two', True, 'Appended', 'Appended']\n"
     ]
    }
   ],
   "source": [
    "#2. copy(): Creates a copy of the current list and places it in a new list.\n",
    "\n",
    "List2 = List1.copy()\n",
    "print(List1)\n",
    "print(List2)\n",
    "\n",
    "\n",
    "List3 = List1\n",
    "print(List3)"
   ]
  },
  {
   "cell_type": "code",
   "execution_count": 7,
   "metadata": {},
   "outputs": [
    {
     "name": "stdout",
     "output_type": "stream",
     "text": [
      "['One', 1, 'Two', True, 'Appended', 'Appended']\n",
      "[]\n",
      "['One', 1, 'Two', True, 'Appended', 'Appended']\n",
      "[]\n"
     ]
    }
   ],
   "source": [
    "#3. clear() : Removes all entries from the List\n",
    "\n",
    "print(List2)\n",
    "List2.clear()\n",
    "print(List2)\n",
    "print(List1)\n",
    "List1.clear()\n",
    "print(List3)"
   ]
  },
  {
   "cell_type": "code",
   "execution_count": 7,
   "metadata": {},
   "outputs": [
    {
     "name": "stdout",
     "output_type": "stream",
     "text": [
      "['One', 1, 'Two', True]\n",
      "['One', 1, 'Two', True]\n",
      "['test', 'List', 'test']\n",
      "['One', 1, 'Two', True, 'test', 'List', 'test']\n",
      "None\n"
     ]
    }
   ],
   "source": [
    "#4. extend(): Adds items from an existing list and into the current list.\n",
    "#Notice the difference between append and extend\n",
    "List1 = [\"One\", 1, \"Two\", True]\n",
    "List2 = [\"test\",\"List\",\"test\"]\n",
    "\n",
    "\n",
    "\n",
    "print(List1)\n",
    "print(List1)\n",
    "print(List2)\n",
    "\n",
    "#List1.append(List2)\n",
    "#print(List1)\n",
    "\n",
    "List1.extend(List2)\n",
    "print(List1)\n"
   ]
  },
  {
   "cell_type": "code",
   "execution_count": 6,
   "metadata": {},
   "outputs": [
    {
     "name": "stdout",
     "output_type": "stream",
     "text": [
      "[2, 'One', 1, 'Two', True, 'test', 'List', 'test']\n"
     ]
    }
   ],
   "source": [
    "#5. insert(): Adds a new entry to the position specified in the list.\n",
    "\n",
    "#The insert() function requires two arguments. The first argument is the index of the insertion, \n",
    "#which is element 0 in this case. The second argument is the object you want inserted at that point, \n",
    "#which is 2 in this case.\n",
    "\n",
    "List1.insert(0,2)\n",
    "print(List1)\n"
   ]
  },
  {
   "cell_type": "code",
   "execution_count": 7,
   "metadata": {},
   "outputs": [
    {
     "name": "stdout",
     "output_type": "stream",
     "text": [
      "[2, 'One', 1, 'Two', True, 'test', 'List', 'test']\n",
      "[2, 'One', 1, 'Two', True, 'test', 'List']\n",
      "test\n"
     ]
    }
   ],
   "source": [
    "#pop(): Removes an entry from the end of the list.\n",
    "#List as a Data Stack (LIFO)\n",
    "print(List1)\n",
    "x = List1.pop()\n",
    "print(List1)\n",
    "print(x)"
   ]
  },
  {
   "cell_type": "code",
   "execution_count": 6,
   "metadata": {},
   "outputs": [
    {
     "name": "stdout",
     "output_type": "stream",
     "text": [
      "Data in the List before deleting : [1, 2, 3, 4, 5]\n",
      "Data in the List after deleting : [1, 4, 5]\n"
     ]
    },
    {
     "ename": "NameError",
     "evalue": "name 'data' is not defined",
     "output_type": "error",
     "traceback": [
      "\u001b[1;31m---------------------------------------------------------------------------\u001b[0m",
      "\u001b[1;31mNameError\u001b[0m                                 Traceback (most recent call last)",
      "\u001b[1;32m<ipython-input-6-7cda07a21dd6>\u001b[0m in \u001b[0;36m<module>\u001b[1;34m()\u001b[0m\n\u001b[0;32m     15\u001b[0m \u001b[1;32mdel\u001b[0m \u001b[0mdata\u001b[0m\u001b[1;33m\u001b[0m\u001b[0m\n\u001b[0;32m     16\u001b[0m \u001b[1;33m\u001b[0m\u001b[0m\n\u001b[1;32m---> 17\u001b[1;33m \u001b[0mprint\u001b[0m\u001b[1;33m(\u001b[0m\u001b[1;34m\"Data in the List after deleting :\"\u001b[0m\u001b[1;33m,\u001b[0m \u001b[0mdata\u001b[0m\u001b[1;33m)\u001b[0m\u001b[1;33m\u001b[0m\u001b[0m\n\u001b[0m",
      "\u001b[1;31mNameError\u001b[0m: name 'data' is not defined"
     ]
    }
   ],
   "source": [
    "#Deleting elements in the List\n",
    "\n",
    "#del statement can be use to delete an element from the List\n",
    "#It can also be used to delete all items from startIndex to endIndex\n",
    "\n",
    "data = [1,2,3,4,5]\n",
    "\n",
    "print(\"Data in the List before deleting :\", data)\n",
    "\n",
    "del data[1:3]\n",
    "\n",
    "\n",
    "print(\"Data in the List after deleting :\", data)\n",
    "\n",
    "del data\n",
    "\n",
    "print(\"Data in the List after deleting :\", data)"
   ]
  },
  {
   "cell_type": "code",
   "execution_count": 6,
   "metadata": {},
   "outputs": [
    {
     "name": "stdout",
     "output_type": "stream",
     "text": [
      "['One', 1, True, 'test', 'List']\n",
      "[1, True, 'test', 'List']\n",
      "['One', 1, True, 'test', 'List']\n"
     ]
    }
   ],
   "source": [
    "#remove(): Removes an entry from the the list.\n",
    "print(List1)\n",
    "List1.remove(\"One\")\n",
    "print(List1)\n",
    "List1 = ['One','One',1, True, 'test', 'List']\n",
    "List1.remove(\"One\")\n",
    "print(List1)\n",
    "#List1.remove(2)"
   ]
  },
  {
   "cell_type": "code",
   "execution_count": 10,
   "metadata": {},
   "outputs": [
    {
     "name": "stdout",
     "output_type": "stream",
     "text": [
      "['one', 'one', 2, 3]\n",
      "['one', 2, 3]\n"
     ]
    }
   ],
   "source": [
    "x = [\"one\",\"one\",2,3]\n",
    "print(x)\n",
    "x.remove(\"one\")\n",
    "print(x)\n"
   ]
  },
  {
   "cell_type": "markdown",
   "metadata": {},
   "source": [
    "#### Sorting Lists\n",
    "The computer can locate information in a list no matter what order it appears\n",
    "in. It’s a fact, though, that longer lists are easier to search when you put them\n",
    "in sorted order. However, the main reason to put a list in sorted order is to\n",
    "make it easier for the human user to actually see the information the list contains.\n",
    "People work better with sorted information."
   ]
  },
  {
   "cell_type": "code",
   "execution_count": 8,
   "metadata": {},
   "outputs": [
    {
     "name": "stdout",
     "output_type": "stream",
     "text": [
      "['Red', 'Orange', 'Yellow', 'Green', 'blue']\n",
      "['Green', 'Orange', 'Red', 'Yellow', 'blue']\n"
     ]
    }
   ],
   "source": [
    "Colors = [\"Red\", \"Orange\", \"Yellow\", \"Green\", \"Blue\"]\n",
    "print(Colors)\n",
    "Colors.sort()\n",
    "print(Colors)"
   ]
  },
  {
   "cell_type": "markdown",
   "metadata": {},
   "source": [
    "##### Working with the Counter Object\n",
    "Sometimes you have a data source and you simply need to know how often things happen (such as the appearance of a certain item in the list). When you have a short list, you can simply count the items. However, when you have a really long list, it’s nearly impossible to get an accurate count. For example, consider what it would take if you had a really long novel like War and Peace in a list and wanted to know the frequency of the words the novelused. The task would be impossible without a computer.\n",
    "\n",
    "The Counter object lets you count items quickly. In addition, it’s incredibly easy to use."
   ]
  },
  {
   "cell_type": "code",
   "execution_count": 1,
   "metadata": {},
   "outputs": [
    {
     "name": "stdout",
     "output_type": "stream",
     "text": [
      "Counter({'1': 4, '2': 3, '3': 2, '4': 1, '5': 1})\n"
     ]
    }
   ],
   "source": [
    "from collections import Counter\n",
    "\n",
    "MyList = [\"1\", \"2\", \"3\", \"4\", \"1\", \"2\", \"3\", \"1\", \"2\", \"1\", \"5\"]\n",
    "ListCount = Counter(MyList)\n",
    "print(ListCount)"
   ]
  },
  {
   "cell_type": "code",
   "execution_count": 8,
   "metadata": {},
   "outputs": [
    {
     "name": "stdout",
     "output_type": "stream",
     "text": [
      "[10, 20, 30, 2, 3]\n",
      "None\n",
      "[10, 20, 30, 2, 3]\n"
     ]
    }
   ],
   "source": [
    "#List Operations\n",
    "\n",
    "#Two lists can be added using concatination operator to join hte two lists\n",
    "list1 = [10,20,30]\n",
    "list2 = [2,3]\n",
    "\n",
    "list3 = list1 + list2\n",
    "print(list3)\n",
    "\n",
    "list4 = list1.extend(list2)\n",
    "print(list4)\n",
    "\n",
    "print(list1)"
   ]
  },
  {
   "cell_type": "code",
   "execution_count": 55,
   "metadata": {},
   "outputs": [
    {
     "ename": "TypeError",
     "evalue": "can only concatenate list (not \"int\") to list",
     "output_type": "error",
     "traceback": [
      "\u001b[1;31m---------------------------------------------------------------------------\u001b[0m",
      "\u001b[1;31mTypeError\u001b[0m                                 Traceback (most recent call last)",
      "\u001b[1;32m<ipython-input-55-4ed0cf40fdc2>\u001b[0m in \u001b[0;36m<module>\u001b[1;34m()\u001b[0m\n\u001b[1;32m----> 1\u001b[1;33m \u001b[0mlist1\u001b[0m \u001b[1;33m+\u001b[0m \u001b[1;36m2\u001b[0m\u001b[1;33m\u001b[0m\u001b[0m\n\u001b[0m",
      "\u001b[1;31mTypeError\u001b[0m: can only concatenate list (not \"int\") to list"
     ]
    }
   ],
   "source": [
    "list1 + 2"
   ]
  },
  {
   "cell_type": "code",
   "execution_count": 7,
   "metadata": {},
   "outputs": [
    {
     "ename": "TypeError",
     "evalue": "can't multiply sequence by non-int of type 'list'",
     "output_type": "error",
     "traceback": [
      "\u001b[1;31m---------------------------------------------------------------------------\u001b[0m",
      "\u001b[1;31mTypeError\u001b[0m                                 Traceback (most recent call last)",
      "\u001b[1;32m<ipython-input-7-a4ce1527fc84>\u001b[0m in \u001b[0;36m<module>\u001b[1;34m()\u001b[0m\n\u001b[1;32m----> 1\u001b[1;33m \u001b[1;33m[\u001b[0m\u001b[1;36m2\u001b[0m\u001b[1;33m]\u001b[0m\u001b[1;33m*\u001b[0m\u001b[1;33m[\u001b[0m\u001b[1;36m2\u001b[0m\u001b[1;33m]\u001b[0m\u001b[1;33m\u001b[0m\u001b[0m\n\u001b[0m",
      "\u001b[1;31mTypeError\u001b[0m: can't multiply sequence by non-int of type 'list'"
     ]
    }
   ],
   "source": [
    "[2]*[2]"
   ]
  },
  {
   "cell_type": "code",
   "execution_count": 56,
   "metadata": {},
   "outputs": [
    {
     "name": "stdout",
     "output_type": "stream",
     "text": [
      "[10, 20, 30, 10, 20, 30]\n"
     ]
    }
   ],
   "source": [
    "#Replicating the list\n",
    "print(list1*2)"
   ]
  },
  {
   "cell_type": "markdown",
   "metadata": {},
   "source": [
    "#### Functions and Methods of a List\n",
    "\n"
   ]
  },
  {
   "cell_type": "code",
   "execution_count": 27,
   "metadata": {},
   "outputs": [
    {
     "data": {
      "text/plain": [
       "23"
      ]
     },
     "execution_count": 27,
     "metadata": {},
     "output_type": "execute_result"
    }
   ],
   "source": [
    "#1. min(list): Returns minimum value\n",
    "list1 = [23,45,28,34,55]\n",
    "min(list1)"
   ]
  },
  {
   "cell_type": "code",
   "execution_count": 10,
   "metadata": {},
   "outputs": [
    {
     "data": {
      "text/plain": [
       "'C'"
      ]
     },
     "execution_count": 10,
     "metadata": {},
     "output_type": "execute_result"
    }
   ],
   "source": [
    "list2 = ['a','b','C']\n",
    "min(list2)"
   ]
  },
  {
   "cell_type": "code",
   "execution_count": 67,
   "metadata": {},
   "outputs": [
    {
     "data": {
      "text/plain": [
       "55"
      ]
     },
     "execution_count": 67,
     "metadata": {},
     "output_type": "execute_result"
    }
   ],
   "source": [
    "#2. max(list): Returns maximum value\n",
    "max(list1)"
   ]
  },
  {
   "cell_type": "code",
   "execution_count": 68,
   "metadata": {},
   "outputs": [
    {
     "data": {
      "text/plain": [
       "5"
      ]
     },
     "execution_count": 68,
     "metadata": {},
     "output_type": "execute_result"
    }
   ],
   "source": [
    "#3. len(list)\n",
    "\n",
    "len(list1)"
   ]
  },
  {
   "cell_type": "code",
   "execution_count": 18,
   "metadata": {},
   "outputs": [
    {
     "name": "stdout",
     "output_type": "stream",
     "text": [
      "[1, 2, 3, 4, 'A', 'B']\n"
     ]
    }
   ],
   "source": [
    "#list(seq)\n",
    "\n",
    "seq = (1,2,3,4,'A','B')\n",
    "data = list(seq)\n",
    "\n",
    "print(data)"
   ]
  },
  {
   "cell_type": "code",
   "execution_count": 1,
   "metadata": {},
   "outputs": [
    {
     "name": "stdout",
     "output_type": "stream",
     "text": [
      "index of 8\n"
     ]
    }
   ],
   "source": [
    "#index()\n",
    "data = [1,2,3,4,6,7,8,9,5,5]\n",
    "\n",
    "print(\"index of\",data.index(5))\n"
   ]
  },
  {
   "cell_type": "code",
   "execution_count": 75,
   "metadata": {},
   "outputs": [
    {
     "name": "stdout",
     "output_type": "stream",
     "text": [
      "Number of times 5 appread in list 2\n",
      "Number of times 3 appread in list 1\n"
     ]
    }
   ],
   "source": [
    "#count()\n",
    "print(\"Number of times 5 appread in list\", data.count(5))\n",
    "print(\"Number of times 3 appread in list\", data.count(3))"
   ]
  },
  {
   "cell_type": "code",
   "execution_count": 1,
   "metadata": {},
   "outputs": [
    {
     "name": "stdout",
     "output_type": "stream",
     "text": [
      "Reverse List:  [3, 4, 5, 3, 2, 1]\n"
     ]
    }
   ],
   "source": [
    "#reverse\n",
    "\n",
    "list1 = [1,2,3,5,4,3]\n",
    "list1.reverse()\n",
    "print(\"Reverse List: \",list1)"
   ]
  },
  {
   "cell_type": "code",
   "execution_count": 79,
   "metadata": {},
   "outputs": [
    {
     "name": "stdout",
     "output_type": "stream",
     "text": [
      "Sorted list in ascending order : [1, 3, 3, 4, 5, 6]\n",
      "Sorted list in descending order : [6, 5, 4, 3, 3, 1]\n"
     ]
    }
   ],
   "source": [
    "#sort()\n",
    "\n",
    "list1 = [4,3,5,6,3,1]\n",
    "\n",
    "list1.sort()\n",
    "\n",
    "print(\"Sorted list in ascending order :\", list1)\n",
    "\n",
    "list1.sort(reverse = True)\n",
    "\n",
    "print(\"Sorted list in descending order :\", list1)\n",
    "\n"
   ]
  },
  {
   "cell_type": "code",
   "execution_count": 1,
   "metadata": {},
   "outputs": [
    {
     "name": "stdout",
     "output_type": "stream",
     "text": [
      "[[1, 2, 3, 4], [3, 4, 5, 6], ['a', 'b', 'c']]\n",
      "[1, 2, 3, 4]\n",
      "2\n",
      "[[1, 2, 3, 4], [3, 4, 5, 6]]\n"
     ]
    },
    {
     "data": {
      "text/plain": [
       "3"
      ]
     },
     "execution_count": 1,
     "metadata": {},
     "output_type": "execute_result"
    }
   ],
   "source": [
    "#Nested List\n",
    "\n",
    "nest = [[1,2,3,4],[3,4,5,6],['a','b','c']]\n",
    "\n",
    "print(nest)\n",
    "\n",
    "print(nest[0])\n",
    "print(nest[0][1])\n",
    "print(nest[0:2])\n",
    "len(nest)"
   ]
  },
  {
   "cell_type": "code",
   "execution_count": 11,
   "metadata": {},
   "outputs": [
    {
     "data": {
      "text/plain": [
       "[[1, 2, 3, 4], [1, 2, 3, 4], [1, 2, 3, 4]]"
      ]
     },
     "execution_count": 11,
     "metadata": {},
     "output_type": "execute_result"
    }
   ],
   "source": [
    "lst1 = [1,2,3,4]\n",
    "lst2 = [1,2,3,4]\n",
    "lst3 = [1,2,3,4]\n",
    "\n",
    "lst4 = [lst1,lst2,lst3]\n",
    "#lst4\n",
    "\n",
    "list(([lst1,lst2,lst3]))"
   ]
  }
 ],
 "metadata": {
  "kernelspec": {
   "display_name": "Python 3",
   "language": "python",
   "name": "python3"
  },
  "language_info": {
   "codemirror_mode": {
    "name": "ipython",
    "version": 3
   },
   "file_extension": ".py",
   "mimetype": "text/x-python",
   "name": "python",
   "nbconvert_exporter": "python",
   "pygments_lexer": "ipython3",
   "version": "3.6.4"
  }
 },
 "nbformat": 4,
 "nbformat_minor": 2
}
