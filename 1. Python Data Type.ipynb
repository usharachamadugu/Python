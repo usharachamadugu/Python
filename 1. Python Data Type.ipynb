
    "                     Different data types in python \n",
    "                     \n",
    "##############################################################################\n"
   ]
  },
  {
   "cell_type": "markdown",
   "metadata": {},
   "source": [
    "### Python uses specialized variables to store information to make things easy for the programmer and to ensure that the information remains safe. However, computers don’t actually know about information types. All that the computer\n",
    "knows about are 0s and 1s, which is the absence or presence of a voltage. At a higher level, computers do work with numbers, but that’s the extent of what computers do. Numbers, letters, dates, times, and any other kind of information\n",
    "you can think about all come down to 0s and 1s in the computer system.\n",
    "\n",
    "For example, the letter A is actually stored as 01000001 or the number 65. The computer has no concept of the letter A or of a date such as 8/31/2014.\n",
    "\n",
    "Every programming language defines variables that hold specific kinds of information, and Python is no exception. The specific kind of variable is called a \"data type\".\n",
    "\n",
    "Knowing the data type of a variable is important because it tells you what kind of information you find inside."
   ]
  },
  {
   "cell_type": "code",
   "execution_count": 1,
   "metadata": {},
   "outputs": [],
   "source": [
    "#How to define varaible:\n",
    "x = 5\n"
   ]
  },
  {
   "cell_type": "code",
   "execution_count": 2,
   "metadata": {},
   "outputs": [
    {
     "name": "stdout",
     "output_type": "stream",
     "text": [
      "<class 'int'>\n",
      "5\n"
     ]
    }
   ],
   "source": [
    "print(type(x))\n",
    "print(x)"
   ]
  },
  {
   "cell_type": "markdown",
   "metadata": {},
   "source": [
    "### Numeric Types\n",
    "Humans view 1 and 1.0 as being the same number - one of them simply has a decimal point. As far as human concerned the two numbers are equal and and we could easily use them interchangeably. \n",
    "\n",
    "Python view them as being different kind of numbers. Let's try to understand integer, floating and complex number classes of datatype that python supports.  \n"
   ]
  },
  {
   "cell_type": "markdown",
   "metadata": {
    "collapsed": true
   },
   "source": [
    "# Integer\n",
    "\n",
    "Any whole number is an integer. for example value 1 is the whole number, so it's an integer. On the other hand,1.0 isn’t a whole number; it has a decimal part to it, so it’s not an integer. Integers are represented by the int data type. On most platforms, you can store numbers between –9,223,372,036,854,775,808 and 9,223,372,036,854,775,807 within an int\n",
    "\n",
    "\n",
    "\n",
    "# Floating-point value\n",
    "\n",
    "Any number that includes a decimal portion is a floating-point value. For example, 1.0 has a decimal part,so it’s a floating-point value. If you see a decimal in the number, then it’s a floatingpoint value. Python stores floating-point values in the float data type.\n",
    "\n",
    "Floating-point values have an advantage over integer values in that you can store immensely large or incredibly small values in them.\n",
    "\n",
    "When working with floating-point values, you can assign the information to the variable in a number of ways. The two most common methods are to provide the number directly and to use scientific notation. When using scientific notation, an e separates the number from its exponent.\n"
   ]
  },
  {
   "cell_type": "code",
   "execution_count": 12,
   "metadata": {},
   "outputs": [
    {
     "name": "stdout",
     "output_type": "stream",
     "text": [
      "<class 'int'>\n",
      "<class 'float'>\n",
      "255.0\n",
      "0.0255\n"
     ]
    }
   ],
   "source": [
    "#using a negative exponent results in a fractional value.\n",
    "\n",
    "#Defining integer variable\n",
    "x = 234\n",
    "print(type(x))\n",
    "\n",
    "#Defining float variable\n",
    "y = 234.0\n",
    "print(type(y))\n",
    "\n",
    "z = 2.55e2\n",
    "print(z)\n",
    "\n",
    "q = 2.55e-2\n",
    "print(q)"
   ]
  },
  {
   "cell_type": "code",
   "execution_count": 8,
   "metadata": {},
   "outputs": [
    {
     "name": "stdout",
     "output_type": "stream",
     "text": [
      "<class 'bool'>\n",
      "<class 'bool'>\n",
      "True\n",
      "<class 'bool'>\n"
     ]
    }
   ],
   "source": [
    "#Boolean Value\n",
    "\n",
    "x = True\n",
    "#type(x)\n",
    "print(type(x))\n",
    "\n",
    "y = False\n",
    "print(type(y))\n",
    "#y\n",
    "\n",
    "z = 1 < 2\n",
    "print(z)\n",
    "print(type(z))"
   ]
  },
  {
   "cell_type": "markdown",
   "metadata": {
    "collapsed": true
   },
   "source": [
    "## Complex Number\n",
    "\n",
    "A complex number consists of a real number and an imaginary number that are paired together.\n",
    "http://www.mathsisfun.com/numbers/complex-numbers.html.\n",
    "\n",
    "Real-world uses for complex numbers include:\n",
    "    #Electrical engineering\n",
    "    #Fluid dynamics\n",
    "    #Quantum mechanics\n",
    "    #Computer graphics\n",
    "    #Dynamic systems\n",
    "\n",
    "In general, if you aren’t involved in any of these disciplines, you probably won’t ever encounter complex numbers. However, Python is one of the few languages that provides a built-in data type to support them."
   ]
  },
  {
   "cell_type": "code",
   "execution_count": 16,
   "metadata": {},
   "outputs": [
    {
     "name": "stdout",
     "output_type": "stream",
     "text": [
      "<class 'complex'>\n",
      "(3+4j)\n",
      "3.0\n",
      "4.0\n"
     ]
    }
   ],
   "source": [
    "myComplex = 3 + 4j\n",
    "print(type(myComplex))\n",
    "print(myComplex)\n",
    "print(myComplex.real)\n",
    "print(myComplex.imag)"
   ]
  },
  {
   "cell_type": "markdown",
   "metadata": {},
   "source": [
    "##### As you might imagine, floating-point numbers tend to consume more space in memory because of their complexity. In addition, they use an entirely different area of the processor — one that works more slowly than the part used for integer math. Finally, integers are less precise, as contrasted to floating-point numbers, which can’t precisely represent some numbers, so you get an approximation instead. However, floatingpoint variables can store much larger numbers. The bottom line is that decimals are unavoidable in the real world, so you need floating-point numbers, but using integers when you can reduces the amount of memory your application consumes and helps it work faster. There are many trade-offs in computer systems, and this one is unavoidable."
   ]
  },
  {
   "cell_type": "code",
   "execution_count": 25,
   "metadata": {},
   "outputs": [
    {
     "data": {
      "text/plain": [
       "65"
      ]
     },
     "execution_count": 25,
     "metadata": {},
     "output_type": "execute_result"
    }
   ],
   "source": [
    "# String Datatype\n",
    "\n",
    "#Of all the data types, strings are the most easily understood by humans and not understood at all by computers.\n",
    "#A string is simply any grouping of characters you place within double quotes. For example, myString =\n",
    "#\"Python is a great language.\" assigns a string of characters to myString.\n",
    "\n",
    "#The computer doesn’t see letters at all. Every letter you use is represented by a number in memory. \n",
    "#For example, the letter A is actually the number 65.To see this for yourself, type ord(“A”)\n",
    "ord(\"A\")\n",
    "\n"
   ]
  },
  {
   "cell_type": "markdown",
   "metadata": {},
   "source": [
    "#### Coercion Function to convert one type to another\n",
    "\n",
    "##### Because the computer doesn’t really understand strings, but strings are so useful in writing applications, you sometimes need to convert a string to a number. You can use the int() and float() commands to perform this conversion"
   ]
  },
  {
   "cell_type": "code",
   "execution_count": 33,
   "metadata": {},
   "outputs": [
    {
     "name": "stdout",
     "output_type": "stream",
     "text": [
      "123\n",
      "123.0\n",
      "123.55\n",
      "<class 'str'>\n"
     ]
    }
   ],
   "source": [
    "print(int(\"123\"))\n",
    "print(float(\"123\"))\n",
    "print(str(123.55))\n",
    "print(type(str(123.55)))"
   ]
  },
  {
   "cell_type": "markdown",
   "metadata": {},
   "source": [
    "##### All str can not be converted to int/float type"
   ]
  },
  {
   "cell_type": "code",
   "execution_count": 35,
   "metadata": {},
   "outputs": [
    {
     "ename": "ValueError",
     "evalue": "could not convert string to float: 'A'",
     "output_type": "error",
     "traceback": [
      "\u001b[1;31m---------------------------------------------------------------------------\u001b[0m",
      "\u001b[1;31mValueError\u001b[0m                                Traceback (most recent call last)",
      "\u001b[1;32m<ipython-input-35-f5bb0980257b>\u001b[0m in \u001b[0;36m<module>\u001b[1;34m()\u001b[0m\n\u001b[1;32m----> 1\u001b[1;33m \u001b[0mprint\u001b[0m\u001b[1;33m(\u001b[0m\u001b[0mfloat\u001b[0m\u001b[1;33m(\u001b[0m\u001b[1;34m\"A\"\u001b[0m\u001b[1;33m)\u001b[0m\u001b[1;33m)\u001b[0m\u001b[1;33m\u001b[0m\u001b[0m\n\u001b[0m",
      "\u001b[1;31mValueError\u001b[0m: could not convert string to float: 'A'"
     ]
    }
   ],
   "source": [
    "print(int(\"A\"))"
   ]
  },
  {
   "cell_type": "markdown",
   "metadata": {},
   "source": [
    "### Date an Time\n",
    "\n",
    "To work with dates and times, we need to import a \"datetime\" package\n"
   ]
  },
  {
   "cell_type": "code",
   "execution_count": 1,
   "metadata": {},
   "outputs": [
    {
     "name": "stdout",
     "output_type": "stream",
     "text": [
      "2018-08-11 11:34:21.829897\n",
      "2018-08-11 11:34:21.829897\n",
      "2018-08-11\n",
      "11:34:21.829897\n"
     ]
    }
   ],
   "source": [
    "import datetime\n",
    "\n",
    "print(datetime.datetime.now())\n",
    "\n",
    "\n",
    "#Convert date time into string\n",
    "print(str(datetime.datetime.now()))\n",
    "#Extract Date Part\n",
    "print(str(datetime.datetime.now( ).date()))\n",
    "\n",
    "#Extract Time Part\n",
    "print(str(datetime.datetime.now( ).time( )))\n",
    "\n",
    "\n"
   ]
  },
  {
   "cell_type": "code",
   "execution_count": 4,
   "metadata": {},
   "outputs": [
    {
     "name": "stdout",
     "output_type": "stream",
     "text": [
      "Year is:  2018\n",
      "Month is:  8\n",
      "Day is:  7\n",
      "Hour is:  7\n",
      "Minute is:  40\n",
      "Second is:  21\n"
     ]
    }
   ],
   "source": [
    "##Extracting Year, MOnth, Day, Hr, Min, Sec\n",
    "\n",
    "d = datetime.datetime.now()\n",
    "print(\"Year is: \",d.year)\n",
    "print(\"Month is: \",d.month)\n",
    "print(\"Day is: \",d.day)\n",
    "print(\"Hour is: \",d.hour)\n",
    "print(\"Minute is: \",d.minute)\n",
    "print(\"Second is: \",d.second)"
   ]
  },
  {
   "cell_type": "code",
   "execution_count": 8,
   "metadata": {},
   "outputs": [
    {
     "data": {
      "text/plain": [
       "datetime.datetime"
      ]
     },
     "execution_count": 8,
     "metadata": {},
     "output_type": "execute_result"
    }
   ],
   "source": [
    "type(d)"
   ]
  },
  {
   "cell_type": "code",
   "execution_count": 5,
   "metadata": {},
   "outputs": [
    {
     "data": {
      "text/plain": [
       "2017"
      ]
     },
     "execution_count": 5,
     "metadata": {},
     "output_type": "execute_result"
    }
   ],
   "source": [
    "datetime.datetime.now().year"
   ]
  }
 ],
 "metadata": {
  "kernelspec": {
   "display_name": "Python 3",
   "language": "python",
   "name": "python3"
  },
  "language_info": {
   "codemirror_mode": {
    "name": "ipython",
    "version": 3
   },
   "file_extension": ".py",
   "mimetype": "text/x-python",
   "name": "python",
   "nbconvert_exporter": "python",
   "pygments_lexer": "ipython3",
   "version": "3.6.4"
  }
 },
 "nbformat": 4,
 "nbformat_minor": 2
}
