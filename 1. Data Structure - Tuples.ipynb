
 
    "                     #Working with Tuples \n",
    "                     \n",
    "##############################################################################"
   ]
  },
  {
   "cell_type": "markdown",
   "metadata": {
    "collapsed": true
   },
   "source": [
    "\n",
    "# Tuples\n",
    "\n",
    "Tuples are datastructure that are similar to the list in all aspect except in the way they are declared \n",
    "and how much they allow themselves to be modified. As we have seen in the case of list, they can be change\n",
    "and sometime when you are sorting important information in a list and using it somewhere else in the code,\n",
    "you run the risk of accidently modifying them and loosing data or corrupting it.\n",
    "\n",
    "\n",
    "A tuple is a sequence of immutable objects, therefore tuple cannot be changed.\n",
    "\n",
    "The objects are enclosed within parenthesis and separated by comma."
   ]
  },
  {
   "cell_type": "code",
   "execution_count": 1,
   "metadata": {},
   "outputs": [
    {
     "name": "stdout",
     "output_type": "stream",
     "text": [
      "()\n",
      "<class 'tuple'>\n"
     ]
    }
   ],
   "source": [
    "#Empty tuple\n",
    "\n",
    "tuple1 = ()\n",
    "print(tuple1)\n",
    "print(type(tuple1))\n"
   ]
  },
  {
   "cell_type": "code",
   "execution_count": 3,
   "metadata": {},
   "outputs": [
    {
     "name": "stdout",
     "output_type": "stream",
     "text": [
      "<class 'int'>\n",
      "10\n"
     ]
    }
   ],
   "source": [
    "tuple2 = (10)\n",
    "print(type(tuple2))\n",
    "print(tuple2)"
   ]
  },
  {
   "cell_type": "code",
   "execution_count": 1,
   "metadata": {},
   "outputs": [
    {
     "name": "stdout",
     "output_type": "stream",
     "text": [
      "<class 'tuple'>\n",
      "(10,)\n",
      "10\n"
     ]
    }
   ],
   "source": [
    "#For a single value tuple, there must be a comma at the end of the value\n",
    "\n",
    "tuple3 = (10,)\n",
    "print(type(tuple3))\n",
    "print(tuple3)\n",
    "print(tuple3[0])"
   ]
  },
  {
   "cell_type": "code",
   "execution_count": 5,
   "metadata": {},
   "outputs": [
    {
     "name": "stdout",
     "output_type": "stream",
     "text": [
      "('Monty Python', 30, 'Baker Street', 5.8)\n"
     ]
    }
   ],
   "source": [
    "first_tuple = (\"Monty Python\", 30, \"Baker Street\", 5.8)\n",
    "print(first_tuple)\n"
   ]
  },
  {
   "cell_type": "code",
   "execution_count": 5,
   "metadata": {},
   "outputs": [
    {
     "name": "stdout",
     "output_type": "stream",
     "text": [
      "((1, 2, 3, 4), (5, 6, 7))\n"
     ]
    }
   ],
   "source": [
    "#Tuple can also be nested\n",
    "\n",
    "tuple1 = (1,2,3,4)\n",
    "tuple2 = (tuple1,(5,6,7))\n",
    "\n",
    "print(tuple2)"
   ]
  },
  {
   "cell_type": "code",
   "execution_count": 24,
   "metadata": {},
   "outputs": [
    {
     "name": "stdout",
     "output_type": "stream",
     "text": [
      "('Mumbai', 18.995, 72.814)\n"
     ]
    }
   ],
   "source": [
    "#Tuples\n",
    "\n",
    "city_tuple = (\"Mumbai\", 18.995, 72.814)\n",
    "print(city_tuple)"
   ]
  },
  {
   "cell_type": "code",
   "execution_count": 8,
   "metadata": {},
   "outputs": [
    {
     "name": "stdout",
     "output_type": "stream",
     "text": [
      "Mumbai\n",
      "72.814\n",
      "('Mumbai', 18.995)\n"
     ]
    }
   ],
   "source": [
    "##Accessing Tuples\n",
    "\n",
    "#Tuple can be accessed in the same way as List.\n",
    "\n",
    "print(city_tuple[0])\n",
    "print(city_tuple[-1])\n",
    "print(city_tuple[0:2])"
   ]
  },
  {
   "cell_type": "markdown",
   "metadata": {},
   "source": [
    "# Tuple Operations\n",
    "\n",
    "Various Operations can be performed on Tuple.\n",
    "\n",
    "#1) Adding Tuple\n",
    "#2) Replicating Tuple\n",
    "#3) Tuple Sclicing\n",
    "#4) Creating new tuple from existing\n",
    "#5) Deleting elements fom tuple"
   ]
  },
  {
   "cell_type": "code",
   "execution_count": 10,
   "metadata": {},
   "outputs": [
    {
     "name": "stdout",
     "output_type": "stream",
     "text": [
      "(1, 2, 3, 4, 5, 6, 7, 8)\n"
     ]
    }
   ],
   "source": [
    "#Adding Tuple\n",
    "\n",
    "#Tuple can be added by using the concatenation operator (+) to join two tuples\n",
    "\n",
    "tuple1 = (1,2,3,4)\n",
    "tuple2 = (5,6,7,8)\n",
    "\n",
    "print(tuple1+tuple2)"
   ]
  },
  {
   "cell_type": "code",
   "execution_count": 3,
   "metadata": {},
   "outputs": [
    {
     "ename": "TypeError",
     "evalue": "can only concatenate tuple (not \"int\") to tuple",
     "output_type": "error",
     "traceback": [
      "\u001b[1;31m---------------------------------------------------------------------------\u001b[0m",
      "\u001b[1;31mTypeError\u001b[0m                                 Traceback (most recent call last)",
      "\u001b[1;32m<ipython-input-3-ddcac4838faf>\u001b[0m in \u001b[0;36m<module>\u001b[1;34m()\u001b[0m\n\u001b[1;32m----> 1\u001b[1;33m \u001b[1;33m(\u001b[0m\u001b[1;36m2\u001b[0m\u001b[1;33m,\u001b[0m\u001b[1;33m)\u001b[0m\u001b[1;33m+\u001b[0m\u001b[1;36m2\u001b[0m\u001b[1;33m\u001b[0m\u001b[0m\n\u001b[0m",
      "\u001b[1;31mTypeError\u001b[0m: can only concatenate tuple (not \"int\") to tuple"
     ]
    }
   ],
   "source": [
    "(2,)+2"
   ]
  },
  {
   "cell_type": "code",
   "execution_count": 1,
   "metadata": {},
   "outputs": [
    {
     "name": "stdout",
     "output_type": "stream",
     "text": [
      "(1, 2, 3, 4, 5, 1, 2, 3, 4, 5, 1, 2, 3, 4, 5)\n",
      "(1, 2, 3, 4, 5, 1, 2, 3, 4, 5)\n",
      "()\n",
      "()\n"
     ]
    },
    {
     "ename": "TypeError",
     "evalue": "can't multiply sequence by non-int of type 'float'",
     "output_type": "error",
     "traceback": [
      "\u001b[1;31m---------------------------------------------------------------------------\u001b[0m",
      "\u001b[1;31mTypeError\u001b[0m                                 Traceback (most recent call last)",
      "\u001b[1;32m<ipython-input-1-969225fbbc04>\u001b[0m in \u001b[0;36m<module>\u001b[1;34m()\u001b[0m\n\u001b[0;32m      8\u001b[0m \u001b[0mprint\u001b[0m\u001b[1;33m(\u001b[0m\u001b[0mtuple1\u001b[0m\u001b[1;33m*\u001b[0m\u001b[1;36m0\u001b[0m\u001b[1;33m)\u001b[0m\u001b[1;33m\u001b[0m\u001b[0m\n\u001b[0;32m      9\u001b[0m \u001b[0mprint\u001b[0m\u001b[1;33m(\u001b[0m\u001b[0mtuple1\u001b[0m\u001b[1;33m*\u001b[0m\u001b[1;33m-\u001b[0m\u001b[1;36m1\u001b[0m\u001b[1;33m)\u001b[0m\u001b[1;33m\u001b[0m\u001b[0m\n\u001b[1;32m---> 10\u001b[1;33m \u001b[0mprint\u001b[0m\u001b[1;33m(\u001b[0m\u001b[0mtuple1\u001b[0m\u001b[1;33m*\u001b[0m\u001b[1;36m2.3\u001b[0m\u001b[1;33m)\u001b[0m\u001b[1;33m\u001b[0m\u001b[0m\n\u001b[0m",
      "\u001b[1;31mTypeError\u001b[0m: can't multiply sequence by non-int of type 'float'"
     ]
    }
   ],
   "source": [
    "#Replicating tuple\n",
    "\n",
    "#Replicating means repeating. It can be performed by using '*' operator by a specific number of time.\n",
    "\n",
    "tuple1 = (1,2,3,4,5)\n",
    "print(tuple1*3)\n",
    "print(tuple1*2)\n",
    "print(tuple1*0)\n",
    "print(tuple1*-1)\n",
    "print(tuple1*2.3)"
   ]
  },
  {
   "cell_type": "code",
   "execution_count": 3,
   "metadata": {},
   "outputs": [
    {
     "data": {
      "text/plain": [
       "6"
      ]
     },
     "execution_count": 3,
     "metadata": {},
     "output_type": "execute_result"
    }
   ],
   "source": [
    "len(tuple1)"
   ]
  },
  {
   "cell_type": "code",
   "execution_count": 4,
   "metadata": {},
   "outputs": [
    {
     "name": "stdout",
     "output_type": "stream",
     "text": [
      "(1, 2, 3)\n",
      "(1, 2, 3, 4, 5)\n",
      "(5,)\n",
      "()\n"
     ]
    }
   ],
   "source": [
    "#Tuple Slicing\n",
    "\n",
    "#A subpart of a tuple can be retrieved on the basis of index. This subpart is known as tuple slice.\n",
    "\n",
    "tuple1 = (1,2,3,4,5,6)\n",
    "print(tuple1[0:3])\n",
    "print(tuple1[:-1])\n",
    "print(tuple1[-2:-1])\n",
    "print(tuple1[-1:-1])"
   ]
  },
  {
   "cell_type": "code",
   "execution_count": 6,
   "metadata": {},
   "outputs": [
    {
     "data": {
      "text/plain": [
       "(1, 2, 3, 4, 10, 20, 30, 40, 100, 200, 300, 400)"
      ]
     },
     "execution_count": 6,
     "metadata": {},
     "output_type": "execute_result"
    }
   ],
   "source": [
    "#Creating new tuple from the existing\n",
    "\n",
    "tuple1 = (1,2,3,4)\n",
    "tuple2 = (10,20,30,40)\n",
    "tuple3 = (100,200,300,400)\n",
    "\n",
    "tuple4 = tuple1+tuple2+tuple3\n",
    "tuple4"
   ]
  },
  {
   "cell_type": "code",
   "execution_count": 2,
   "metadata": {},
   "outputs": [
    {
     "name": "stdout",
     "output_type": "stream",
     "text": [
      "(1, 2, 3, 4)\n"
     ]
    },
    {
     "ename": "NameError",
     "evalue": "name 'tuple1' is not defined",
     "output_type": "error",
     "traceback": [
      "\u001b[1;31m---------------------------------------------------------------------------\u001b[0m",
      "\u001b[1;31mNameError\u001b[0m                                 Traceback (most recent call last)",
      "\u001b[1;32m<ipython-input-2-35668cdadce5>\u001b[0m in \u001b[0;36m<module>\u001b[1;34m()\u001b[0m\n\u001b[0;32m     10\u001b[0m \u001b[1;32mdel\u001b[0m \u001b[0mtuple1\u001b[0m \u001b[1;31m#It will delete the tuple\u001b[0m\u001b[1;33m\u001b[0m\u001b[0m\n\u001b[0;32m     11\u001b[0m \u001b[1;33m\u001b[0m\u001b[0m\n\u001b[1;32m---> 12\u001b[1;33m \u001b[0mprint\u001b[0m\u001b[1;33m(\u001b[0m\u001b[0mtuple1\u001b[0m\u001b[1;33m)\u001b[0m\u001b[1;33m\u001b[0m\u001b[0m\n\u001b[0m",
      "\u001b[1;31mNameError\u001b[0m: name 'tuple1' is not defined"
     ]
    }
   ],
   "source": [
    "#Deleting elements from tuple\n",
    "\n",
    "#Deleting individual element from a tuple is not supported. \n",
    "#However the whole of the tuple can be deleted using the del statement.\n",
    "\n",
    "tuple1 = (1,2,3,4)\n",
    "\n",
    "print(tuple1)\n",
    "\n",
    "del tuple1 #It will delete the tuple\n",
    "\n",
    "print(tuple1)\n"
   ]
  },
  {
   "cell_type": "code",
   "execution_count": 7,
   "metadata": {},
   "outputs": [
    {
     "ename": "TypeError",
     "evalue": "'tuple' object does not support item assignment",
     "output_type": "error",
     "traceback": [
      "\u001b[1;31m---------------------------------------------------------------------------\u001b[0m",
      "\u001b[1;31mTypeError\u001b[0m                                 Traceback (most recent call last)",
      "\u001b[1;32m<ipython-input-7-f94a95e76f9d>\u001b[0m in \u001b[0;36m<module>\u001b[1;34m()\u001b[0m\n\u001b[0;32m      3\u001b[0m \u001b[1;33m\u001b[0m\u001b[0m\n\u001b[0;32m      4\u001b[0m \u001b[1;33m\u001b[0m\u001b[0m\n\u001b[1;32m----> 5\u001b[1;33m \u001b[0mtuple4\u001b[0m\u001b[1;33m[\u001b[0m\u001b[1;36m1\u001b[0m\u001b[1;33m]\u001b[0m \u001b[1;33m=\u001b[0m \u001b[1;36m13.222\u001b[0m\u001b[1;33m\u001b[0m\u001b[0m\n\u001b[0m",
      "\u001b[1;31mTypeError\u001b[0m: 'tuple' object does not support item assignment"
     ]
    }
   ],
   "source": [
    "#Updating the elements in tuple\n",
    "#Tuples are immutable\n",
    "\n",
    "\n",
    "tuple4[1] = 13.222"
   ]
  },
  {
   "cell_type": "code",
   "execution_count": 8,
   "metadata": {},
   "outputs": [
    {
     "name": "stdout",
     "output_type": "stream",
     "text": [
      "('Mumbai', 12.3)\n",
      "2\n",
      "c is: ['Mumbai', 12.3]\n",
      "b is: ('Hyd', 12.3)\n"
     ]
    }
   ],
   "source": [
    "\n",
    "#Work Around to edit the tuples\n",
    "city_tuple = (\"Mumbai\",12.3,71.4)\n",
    "\n",
    "b = city_tuple[:-1]\n",
    "\n",
    "#b[0] = \"Hyd\"\n",
    "print(b)\n",
    "print(len(b))\n",
    "\n",
    "#Convert it into list\n",
    "c = list(b)\n",
    "print(\"c is: {0}\".format(c))\n",
    "c[0] = \"Hyd\"\n",
    "b = tuple(c)\n",
    "print(\"b is: {0}\".format(b))"
   ]
  },
  {
   "cell_type": "markdown",
   "metadata": {},
   "source": [
    "# Tuple Functions\n",
    "\n",
    "#1) min(tuple) : Returns the minimum value from a tuple.\n",
    "#2) max(tuple) : Returns the maximum value from the tuple.\n",
    "#3) len(tuple) : Gives the length of a tuple\n",
    "#4) tuple(sequence) : Converts the sequence into tuple."
   ]
  },
  {
   "cell_type": "code",
   "execution_count": 6,
   "metadata": {},
   "outputs": [
    {
     "name": "stdout",
     "output_type": "stream",
     "text": [
      "3\n",
      "60\n",
      "7\n"
     ]
    }
   ],
   "source": [
    "#min(tuple)\n",
    "\n",
    "tuple1 = (10,20,3,40,5,20,60)\n",
    "\n",
    "print(min(tuple1))\n",
    "print(max(tuple1))\n",
    "print(len(tuple1))"
   ]
  },
  {
   "cell_type": "code",
   "execution_count": 10,
   "metadata": {},
   "outputs": [
    {
     "name": "stdout",
     "output_type": "stream",
     "text": [
      "(1, 2, 3, 4)\n"
     ]
    }
   ],
   "source": [
    "seq = [1,2,3,4]\n",
    "tuple1 = tuple(seq)\n",
    "print(tuple1)"
   ]
  },
  {
   "cell_type": "code",
   "execution_count": 1,
   "metadata": {},
   "outputs": [
    {
     "name": "stdout",
     "output_type": "stream",
     "text": [
      "('Mumbai', 18.995, 72.814)\n",
      "('Mumbai', 18.995, 72.814)\n"
     ]
    }
   ],
   "source": [
    "##You cannot copy a list with the = sign because lists are mutables. \n",
    "##The = sign creates a reference not a copy. \n",
    "\n",
    "#Tuples are immutable therefore a = sign does not create a reference but a copy as expected.\n",
    "city_tuple = ('Mumbai', 18.995, 72.814)\n",
    "new_tuple = city_tuple\n",
    "print(new_tuple)\n",
    "\n",
    "del city_tuple\n",
    "#print(city_tuple)\n",
    "print(new_tuple)\n",
    "\n"
   ]
  },
  {
   "cell_type": "markdown",
   "metadata": {},
   "source": [
    "### Tuple Methods\n",
    "\n",
    "Tuples are optimised, which makes them very simple objects. There are two methods available only:\n",
    "\n",
    "#index, to find occurence of a value\n",
    "#count, to count the number of occurence of a value"
   ]
  },
  {
   "cell_type": "code",
   "execution_count": 28,
   "metadata": {},
   "outputs": [
    {
     "name": "stdout",
     "output_type": "stream",
     "text": [
      "3\n"
     ]
    },
    {
     "data": {
      "text/plain": [
       "0"
      ]
     },
     "execution_count": 28,
     "metadata": {},
     "output_type": "execute_result"
    }
   ],
   "source": [
    "l = (1,2,3,4,1,2,1)\n",
    "print(l.count(1))\n",
    "\n",
    "l.index(1)"
   ]
  },
  {
   "cell_type": "code",
   "execution_count": 2,
   "metadata": {},
   "outputs": [
    {
     "name": "stdout",
     "output_type": "stream",
     "text": [
      "(1, 2, 3, 4, [1, 2, 3, 5])\n",
      "1\n",
      "(1, 2, 3, 4, [9, 2, 3, 5])\n"
     ]
    }
   ],
   "source": [
    "# Tuples are not Fully Immutable\n",
    "\n",
    "lst1 = [1,2,3]\n",
    "a = (1,2,3,4,lst1)\n",
    "lst1.append(5)\n",
    "del lst1\n",
    "print(a)\n",
    "#print(a[4])\n",
    "print(a[4][0])\n",
    "\n",
    "a[4][0] = 9\n",
    "\n",
    "print(a)"
   ]
  },
  {
   "cell_type": "code",
   "execution_count": 9,
   "metadata": {},
   "outputs": [
    {
     "ename": "TypeError",
     "evalue": "'tuple' object does not support item assignment",
     "output_type": "error",
     "traceback": [
      "\u001b[1;31m---------------------------------------------------------------------------\u001b[0m",
      "\u001b[1;31mTypeError\u001b[0m                                 Traceback (most recent call last)",
      "\u001b[1;32m<ipython-input-9-f3ad511ff5d1>\u001b[0m in \u001b[0;36m<module>\u001b[1;34m()\u001b[0m\n\u001b[1;32m----> 1\u001b[1;33m \u001b[0ma\u001b[0m\u001b[1;33m[\u001b[0m\u001b[1;36m4\u001b[0m\u001b[1;33m]\u001b[0m \u001b[1;33m=\u001b[0m \u001b[1;36m9\u001b[0m\u001b[1;33m\u001b[0m\u001b[0m\n\u001b[0m",
      "\u001b[1;31mTypeError\u001b[0m: 'tuple' object does not support item assignment"
     ]
    }
   ],
   "source": [
    "a[4] = 9"
   ]
  },
  {
   "cell_type": "code",
   "execution_count": 10,
   "metadata": {},
   "outputs": [
    {
     "name": "stdout",
     "output_type": "stream",
     "text": [
      "x : 1\n",
      "y : 2\n",
      "z : 3\n",
      "3\n",
      "a : 0\n",
      "b : 1\n",
      "c : 2\n"
     ]
    }
   ],
   "source": [
    "#assigning multple values\n",
    "\n",
    "(x,y,z) = (1,2,3)\n",
    "\n",
    "print(\"x :\", x)\n",
    "print(\"y :\", y)\n",
    "print(\"z :\", z)\n",
    "x = 3\n",
    "print(x)\n",
    "\n",
    "(a,b,c) = range(3)\n",
    "\n",
    "print(\"a :\", a)\n",
    "print(\"b :\", b)\n",
    "print(\"c :\", c)"
   ]
  },
  {
   "cell_type": "markdown",
   "metadata": {
    "collapsed": true
   },
   "source": [
    "# Why Use Tuple?\n",
    "\n",
    "#1) Processing of Tuples are faster than Lists.\n",
    "#2) It makes the data safe as Tuples are immutable and hence cannot be changed"
   ]
  },
  {
   "cell_type": "code",
   "execution_count": null,
   "metadata": {
    "collapsed": true
   },
   "outputs": [],
   "source": []
  }
 ],
 "metadata": {
  "kernelspec": {
   "display_name": "Python 3",
   "language": "python",
   "name": "python3"
  },
  "language_info": {
   "codemirror_mode": {
    "name": "ipython",
    "version": 3
   },
   "file_extension": ".py",
   "mimetype": "text/x-python",
   "name": "python",
   "nbconvert_exporter": "python",
   "pygments_lexer": "ipython3",
   "version": "3.6.4"
  }
 },
 "nbformat": 4,
 "nbformat_minor": 2
}
