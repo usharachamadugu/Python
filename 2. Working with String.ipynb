
    "                     Working with String\n",
    "##############################################################################"
   ]
  },
  {
   "cell_type": "markdown",
   "metadata": {},
   "source": [
    "Computer doesn’t understand strings. It’s a basic fact. Computers understand numbers, not letters. When you see a string on the computer screen, the computer actually sees a series of numbers.\n",
    "\n",
    "There are no strings in computer science. Strings are made up of characters, and individual characters are actually numeric values. When you work with strings in Python, what you’re really doing is creating an assembly of characters\n",
    "that the computer sees as numeric values\n",
    "\n",
    "To create a character, you must first define a relationship between that character and a number. More important, everyone must agree that when a certain number appears in an application and is viewed as a character by that application, the number is translated into a specific character. One of the most common ways to perform this task is to use the American Standard Code for Information Interchange (ASCII). Python uses ASCII to translate the number 65 to the letter A. Every character you use must have a different numeric value assigned to it. The letter A uses a value of 65. To create a lowercase a, you must assign a different number, which is 97. The computer views A and a as completely\n",
    "different characters, even though people view them as uppercase and lowercase versions of the same character."
   ]
  },
  {
   "cell_type": "code",
   "execution_count": 2,
   "metadata": {},
   "outputs": [
    {
     "name": "stdout",
     "output_type": "stream",
     "text": [
      "Hello World (Single Quote)!\n",
      "Hello World (Double Quote)!\n",
      "This is a multiple line\n",
      "string using triple double quotes.\n",
      "You can also use triple single quote\n"
     ]
    }
   ],
   "source": [
    "print('Hello World (Single Quote)!')\n",
    "print(\"Hello World (Double Quote)!\")\n",
    "print(\"\"\"This is a multiple line\n",
    "string using triple double quotes.\n",
    "You can also use triple single quote\"\"\")"
   ]
  },
  {
   "cell_type": "code",
   "execution_count": 2,
   "metadata": {},
   "outputs": [
    {
     "name": "stdout",
     "output_type": "stream",
     "text": [
      "python's era\n",
      "\"Hi\"\n"
     ]
    }
   ],
   "source": [
    "print(\"python's era\")\n",
    "print('\"Hi\"')"
   ]
  },
  {
   "cell_type": "code",
   "execution_count": 3,
   "metadata": {},
   "outputs": [
    {
     "name": "stdout",
     "output_type": "stream",
     "text": [
      "Hi\n",
      "'Hi\"\n",
      "'Hello'\n",
      "\\Hello\\\n"
     ]
    }
   ],
   "source": [
    "## An escape Sequence\n",
    "\n",
    "print(\"\"\"Hi\"\"\")\n",
    "#Double quotes\n",
    "print(\"\\'Hi\\\"\")\n",
    "\n",
    "#Single quotes\n",
    "print(\"\\'Hello\\'\")\n",
    "\n",
    "#Backslash\n",
    "print(\"\\\\Hello\\\\\")"
   ]
  },
  {
   "cell_type": "markdown",
   "metadata": {},
   "source": [
    "#### Selecting individal Characters:\n",
    "String is made of individual characters, just like beads on the necklace.\n",
    "Python makes it possible to access indivisual character in the string.\n",
    "\n",
    "In addition you can combine string to create new one.\n",
    "\n",
    "Python strings are 0 based, which means they start with the number 0 and proceed from there.\n"
   ]
  },
  {
   "cell_type": "code",
   "execution_count": 5,
   "metadata": {},
   "outputs": [
    {
     "name": "stdout",
     "output_type": "stream",
     "text": [
      "H\n",
      "e\n",
      "ello P\n"
     ]
    }
   ],
   "source": [
    "myString = \"Hello Python\"\n",
    "print(myString[0])\n",
    "print(myString[1])\n",
    "\n",
    "#You can obtain range of characters from a string\n",
    "print(myString[1:7])"
   ]
  },
  {
   "cell_type": "code",
   "execution_count": 1,
   "metadata": {},
   "outputs": [
    {
     "name": "stdout",
     "output_type": "stream",
     "text": [
      "H\n",
      "Hlo\n",
      "Hello\n",
      "World\n",
      "Hello Python\n",
      "Python Python Python Python Python \n",
      "Hi Hi Hi Hi Hi \n"
     ]
    }
   ],
   "source": [
    "##Some more tasks:\n",
    "\n",
    "String1 = \"Hello World\"\n",
    "String2 = \"Python is Fun\"\n",
    "\n",
    "print(String1[0])\n",
    "print(String1[0:5])\n",
    "print(String1[:5])\n",
    "print(String1[6:])\n",
    "\n",
    "String3 = String1[:6] + String2[:6] ##Concatination\n",
    "print(String3)\n",
    "\n",
    "print(String2[:7]*5) ##Repeatation\n",
    "\n",
    "print(\"Hi \"*5)"
   ]
  },
  {
   "cell_type": "markdown",
   "metadata": {},
   "source": [
    "### Slicing and Dicing Strings\n",
    "\n",
    "Working with ranges of characters provides some degree of flexibility, but it doesn’t provide you with the capability to actually manipulate the string content or discover anything about it. For example, you might want to change the characters to uppercase or determine whether the string contains all letters. Fortunately, Python has functions that help you perform tasks of this sort."
   ]
  },
  {
   "cell_type": "code",
   "execution_count": 13,
   "metadata": {},
   "outputs": [
    {
     "data": {
      "text/plain": [
       "'Hello python '"
      ]
     },
     "execution_count": 13,
     "metadata": {},
     "output_type": "execute_result"
    }
   ],
   "source": [
    "#1. Capitalize(): Capitalizes the first letter of a string.\n",
    "\n",
    "MyString = \"hello python \"\n",
    "\n",
    "MyString.capitalize()\n"
   ]
  },
  {
   "cell_type": "code",
   "execution_count": 34,
   "metadata": {},
   "outputs": [
    {
     "name": "stdout",
     "output_type": "stream",
     "text": [
      "****hello python ****\n",
      "*****hello python****\n",
      "13\n",
      "21\n"
     ]
    }
   ],
   "source": [
    "#2. center(width, fillchar=\" \"): Centers a string so that it fits within the number of spaces specified by width. \n",
    "# If you supply a character for fillchar, the function uses that character. Otherwise, center() uses\n",
    "#spaces to create a string of the desired width.\n",
    "\n",
    "print(MyString.center(21, \"*\"))\n",
    "print(MyString.strip().center(21, \"*\"))\n",
    "print(len(MyString))\n",
    "print(len(MyString.center(21)))"
   ]
  },
  {
   "cell_type": "code",
   "execution_count": 35,
   "metadata": {},
   "outputs": [
    {
     "name": "stdout",
     "output_type": "stream",
     "text": [
      "False\n",
      "hello python \n",
      "True\n",
      "True\n",
      "True\n",
      "False\n"
     ]
    }
   ],
   "source": [
    "#3. isalnum(): Returns True when the string has at least one character \n",
    "#and all characters are alphanumeric (letters or numbers).\n",
    "MyString = \"hello python \"\n",
    "MyString1 = \"hellopython\"\n",
    "MyString2 = \"123abc\"\n",
    "print(MyString.isalnum())\n",
    "print(MyString)\n",
    "print(MyString1.isalnum())\n",
    "print(MyString2.isalnum())\n",
    "print(\"123\".isalnum())\n",
    "print(\" \".isalnum())"
   ]
  },
  {
   "cell_type": "code",
   "execution_count": 3,
   "metadata": {},
   "outputs": [
    {
     "name": "stdout",
     "output_type": "stream",
     "text": [
      "hellopython\n",
      "True\n",
      "123abc\n",
      "False\n"
     ]
    }
   ],
   "source": [
    "#4. isalpha(): Returns True when the string has at least one \n",
    "#character and all characters are alphabetic (letters only).\n",
    "print(MyString1)\n",
    "print(MyString1.isalpha())\n",
    "print(MyString2)\n",
    "print(MyString2.isalpha())"
   ]
  },
  {
   "cell_type": "code",
   "execution_count": 6,
   "metadata": {},
   "outputs": [
    {
     "name": "stdout",
     "output_type": "stream",
     "text": [
      "True\n",
      "False\n"
     ]
    }
   ],
   "source": [
    "#5. isdigit(): Returns True when a string contains only digits \n",
    "#(numbers and not letters).\n",
    "\n",
    "print(\"2\".isdigit())\n",
    "print(\"2.0\".isdigit())"
   ]
  },
  {
   "cell_type": "code",
   "execution_count": 6,
   "metadata": {},
   "outputs": [
    {
     "name": "stdout",
     "output_type": "stream",
     "text": [
      "True\n",
      "True\n",
      "False\n"
     ]
    }
   ],
   "source": [
    "#6. islower(): Returns True when a string has at least one \n",
    "#alphabetic character and all alphabetic \n",
    "#characters are in lowercase.\n",
    "MyString = \" hello python \"\n",
    "print(MyString.islower())\n",
    "      \n",
    "print(\" hello python123 \".islower())\n",
    "print(\" 123 \".islower())"
   ]
  },
  {
   "cell_type": "code",
   "execution_count": 94,
   "metadata": {},
   "outputs": [
    {
     "name": "stdout",
     "output_type": "stream",
     "text": [
      "True\n",
      "False\n"
     ]
    }
   ],
   "source": [
    "#7. isupper(): Returns True when a string has at least one alphabetic character and all alphabetic characters \n",
    "#are in uppercase.\n",
    "\n",
    "MyString = \"HELLO PYTHON\"\n",
    "print((MyString.isupper()))\n",
    "\n",
    "MyString1 = \"HELLO PYTHOn\"\n",
    "print((MyString1.isupper()))"
   ]
  },
  {
   "cell_type": "code",
   "execution_count": 9,
   "metadata": {},
   "outputs": [
    {
     "name": "stdout",
     "output_type": "stream",
     "text": [
      "2\n",
      "True\n",
      "False\n"
     ]
    }
   ],
   "source": [
    "#9. isspace(): Returns True when a string contains only whitespace characters\n",
    "#(which includes spaces, tabs, carriage returns, linefeeds, form\n",
    "#feeds, and vertical tabs, but not the backspace). \n",
    "\n",
    "MyString = \"  \"\n",
    "print(len(MyString))\n",
    "print(MyString.isspace())\n",
    "print(\"HI Hello\".isspace())"
   ]
  },
  {
   "cell_type": "code",
   "execution_count": 7,
   "metadata": {},
   "outputs": [
    {
     "name": "stdout",
     "output_type": "stream",
     "text": [
      "False\n",
      "False\n",
      "True\n"
     ]
    }
   ],
   "source": [
    "#9. istitle(): Returns True when a string is cased for use as a title, such as Hello World. However, \n",
    "#the function requires that even little words have the title case.\n",
    "\n",
    "print(\" hello python \".istitle())\n",
    "print(\" Hello python \".istitle())\n",
    "print(\"Hello Python \".istitle())"
   ]
  },
  {
   "cell_type": "code",
   "execution_count": 16,
   "metadata": {},
   "outputs": [
    {
     "data": {
      "text/plain": [
       "2"
      ]
     },
     "execution_count": 16,
     "metadata": {},
     "output_type": "execute_result"
    }
   ],
   "source": [
    "#10. len(string): Obtains the length of string.\n",
    "\n",
    "len(MyString)"
   ]
  },
  {
   "cell_type": "code",
   "execution_count": 4,
   "metadata": {},
   "outputs": [
    {
     "name": "stdout",
     "output_type": "stream",
     "text": [
      "Hello***\n",
      "***Hello\n",
      "*Hello**\n"
     ]
    }
   ],
   "source": [
    "#11. ljust(width, fillchar=\" \"): Left justifies a string so that it fits within the number of spaces specified by width. \n",
    "#If you supply a character for fill char, the function uses that character. Otherwise, ljust()\n",
    "#uses spaces to create a string of the desired width.\n",
    "MyString = \"Hello\"\n",
    "print(MyString.ljust(8,'*'))\n",
    "print(MyString.rjust(8,'*'))\n",
    "print(MyString.center(8,'*'))"
   ]
  },
  {
   "cell_type": "code",
   "execution_count": 110,
   "metadata": {},
   "outputs": [
    {
     "data": {
      "text/plain": [
       "'hello python'"
      ]
     },
     "execution_count": 110,
     "metadata": {},
     "output_type": "execute_result"
    }
   ],
   "source": [
    "#13. lower(): Converts all uppercase letters in a string to lowercase letters.\n",
    "\n",
    "\"HELLO PYTHON\".lower()"
   ]
  },
  {
   "cell_type": "code",
   "execution_count": 15,
   "metadata": {},
   "outputs": [
    {
     "data": {
      "text/plain": [
       "'Hello Python '"
      ]
     },
     "execution_count": 15,
     "metadata": {},
     "output_type": "execute_result"
    }
   ],
   "source": [
    "#14. lstrip(): Removes all left whitespace characters in a string.\n",
    "\n",
    "\"    Hello Python \".lstrip()"
   ]
  },
  {
   "cell_type": "code",
   "execution_count": 115,
   "metadata": {},
   "outputs": [
    {
     "data": {
      "text/plain": [
       "'Hello Python'"
      ]
     },
     "execution_count": 115,
     "metadata": {},
     "output_type": "execute_result"
    }
   ],
   "source": [
    "#15. rstrip(): Removes all right whitespace characters in a string.\n",
    "\n",
    "\"Hello Python    \".rstrip()"
   ]
  },
  {
   "cell_type": "code",
   "execution_count": 7,
   "metadata": {},
   "outputs": [
    {
     "name": "stdout",
     "output_type": "stream",
     "text": [
      "a\n"
     ]
    }
   ],
   "source": [
    "#16 max(str): Returns the character that has the maximum numeric value in str. For example, \n",
    "#a would have a larger numeric value than A.\n",
    "\n",
    "print(max(\"AaC\"))\n"
   ]
  },
  {
   "cell_type": "code",
   "execution_count": 121,
   "metadata": {},
   "outputs": [
    {
     "data": {
      "text/plain": [
       "'A'"
      ]
     },
     "execution_count": 121,
     "metadata": {},
     "output_type": "execute_result"
    }
   ],
   "source": [
    "#17. min(str): Returns the character that has the minimum numeric value in str. For example, \n",
    "#A would have a smaller numeric value than a.\n",
    "\n",
    "print(min(\"Aa\"))"
   ]
  },
  {
   "cell_type": "code",
   "execution_count": 8,
   "metadata": {},
   "outputs": [
    {
     "name": "stdout",
     "output_type": "stream",
     "text": [
      "['I', 'Love', 'Python']\n",
      "['I,Love,Python']\n",
      "['I', 'Love', 'Python']\n",
      "['I', 'Love,Python']\n",
      "['A', 'B,C,D,E,F']\n",
      "['A', 'B', 'C,D,E,F']\n",
      "['A', 'B', 'C', 'D,E,F']\n"
     ]
    }
   ],
   "source": [
    "#18. split(str=\" \", num=string.count(str)): Splits a string into substrings using the delimiter specified by \n",
    "#str (when supplied). The default is to use a space as a delimiter. Consequently, if your string contains A Fine\n",
    "#Day, the output would be three substrings consisting of A, Fine, and Day. You use num to define the number of \n",
    "#substrings to return. The default is to return every substring that the function can produce.\n",
    "\n",
    "print(\"I Love Python\".split()) \n",
    "print(\"I,Love,Python\".split())\n",
    "print(\"I,Love,Python\".split(\",\")) \n",
    "print(\"I,Love,Python\".split(\",\",1)) \n",
    "print(\"A,B,C,D,E,F\".split(\",\",1))\n",
    "print(\"A,B,C,D,E,F\".split(\",\",2))\n",
    "print(\"A,B,C,D,E,F\".split(\",\",3))\n"
   ]
  },
  {
   "cell_type": "markdown",
   "metadata": {},
   "source": [
    "### Locating a Value in a String\n",
    "\n",
    "There are times when you need to locate specific information in a string. For example, you may want to know whether a string contains the word Hello in it. One of the essential purposes behind creating and maintaining data is to be able to search it later to locate specific bits of information. Strings are no different — they’re most useful when you can find what you need quickly and without any problems. Python provides a number of functions for searching strings."
   ]
  },
  {
   "cell_type": "code",
   "execution_count": 9,
   "metadata": {},
   "outputs": [
    {
     "name": "stdout",
     "output_type": "stream",
     "text": [
      "4\n",
      "2\n",
      "1\n",
      "1\n"
     ]
    }
   ],
   "source": [
    "#1. count(str, beg= 0, end=len(string)): Counts how many times str occurs in a string. \n",
    "#You can limit the search by specifying a beginning index using beg or an ending index using end.\n",
    "\n",
    "print(\"Hello World Hello Python\".count(\"o\"))\n",
    "print(\"Hello World Hello Python\".count(\"Hello\"))\n",
    "print(\"Hello World Hello Python\".count(\"Hello\",0,8))\n",
    "print(\"Hello World Hello Python\".count(\"o\",0,7))\n"
   ]
  },
  {
   "cell_type": "code",
   "execution_count": 9,
   "metadata": {},
   "outputs": [
    {
     "name": "stdout",
     "output_type": "stream",
     "text": [
      "True\n",
      "True\n",
      "False\n",
      "True\n",
      "False\n",
      "True\n"
     ]
    }
   ],
   "source": [
    "#2. endswith(suffix, beg=0, end=len(string)): Returns True when a string ends with the characters specified by suffix. \n",
    "#You can limit the check by specifying a beginning index using beg or an ending index using end.\n",
    "\n",
    "print(\"Hello\".endswith(\"o\"))\n",
    "print(\"Hello\".endswith(\"Hello\"))\n",
    "print(\"Hello\".endswith(\"l\"))\n",
    "print(\"Hello\".endswith(\"l\",0,3))\n",
    "print(\"Hello\".endswith(\"l\",0,2))\n",
    "print(\"Hello\".endswith(\"l\",0,4))"
   ]
  },
  {
   "cell_type": "code",
   "execution_count": 12,
   "metadata": {},
   "outputs": [
    {
     "name": "stdout",
     "output_type": "stream",
     "text": [
      "0\n",
      "6\n",
      "-1\n"
     ]
    }
   ],
   "source": [
    "#3. find(str, beg=0, end=len(string)): Determines whether str occurs in a string and outputs the index of the location. \n",
    "#You can limit the search by specifying a beginning index using beg or a ending index using end.\n",
    "\n",
    "print(\"Hello Python\".find(\"Hello\"))\n",
    "print(\"Hello Python\".find(\"P\"))\n",
    "print(\"Hello Python\".find(\"WOrld\"))"
   ]
  },
  {
   "cell_type": "code",
   "execution_count": 16,
   "metadata": {},
   "outputs": [
    {
     "name": "stdout",
     "output_type": "stream",
     "text": [
      "0\n",
      "2\n"
     ]
    },
    {
     "ename": "ValueError",
     "evalue": "substring not found",
     "output_type": "error",
     "traceback": [
      "\u001b[1;31m---------------------------------------------------------------------------\u001b[0m",
      "\u001b[1;31mValueError\u001b[0m                                Traceback (most recent call last)",
      "\u001b[1;32m<ipython-input-16-2bd17749a82b>\u001b[0m in \u001b[0;36m<module>\u001b[1;34m()\u001b[0m\n\u001b[0;32m      4\u001b[0m \u001b[0mprint\u001b[0m\u001b[1;33m(\u001b[0m\u001b[1;34m\"Hello Python\"\u001b[0m\u001b[1;33m.\u001b[0m\u001b[0mindex\u001b[0m\u001b[1;33m(\u001b[0m\u001b[1;34m\"Hello\"\u001b[0m\u001b[1;33m)\u001b[0m\u001b[1;33m)\u001b[0m\u001b[1;33m\u001b[0m\u001b[0m\n\u001b[0;32m      5\u001b[0m \u001b[0mprint\u001b[0m\u001b[1;33m(\u001b[0m\u001b[1;34m\"Hello Python\"\u001b[0m\u001b[1;33m.\u001b[0m\u001b[0mindex\u001b[0m\u001b[1;33m(\u001b[0m\u001b[1;34m\"l\"\u001b[0m\u001b[1;33m)\u001b[0m\u001b[1;33m)\u001b[0m\u001b[1;33m\u001b[0m\u001b[0m\n\u001b[1;32m----> 6\u001b[1;33m \u001b[0mprint\u001b[0m\u001b[1;33m(\u001b[0m\u001b[1;34m\"Hello Python\"\u001b[0m\u001b[1;33m.\u001b[0m\u001b[0mindex\u001b[0m\u001b[1;33m(\u001b[0m\u001b[1;34m\"WOrld\"\u001b[0m\u001b[1;33m)\u001b[0m\u001b[1;33m)\u001b[0m\u001b[1;33m\u001b[0m\u001b[0m\n\u001b[0m",
      "\u001b[1;31mValueError\u001b[0m: substring not found"
     ]
    }
   ],
   "source": [
    "#4. index(str, beg=0, end=len(string)): Provides the same functionality as find(), \n",
    "#but raises an exception when str isn’t found.\n",
    "\n",
    "print(\"Hello Python\".index(\"Hello\"))\n",
    "print(\"Hello Python\".index(\"l\"))\n",
    "print(\"Hello Python\".index(\"WOrld\"))"
   ]
  },
  {
   "cell_type": "code",
   "execution_count": 149,
   "metadata": {},
   "outputs": [
    {
     "name": "stdout",
     "output_type": "stream",
     "text": [
      "heLLo\n",
      "heLlo\n"
     ]
    }
   ],
   "source": [
    "#5. replace(old, new [, max]): Replaces all occurrences of the character sequence specified by old in a \n",
    "#string with the character sequence specified by new. You can limit the number of replacements by specifying\n",
    "#a value for max.\n",
    "\n",
    "print(\"hello\".replace(\"l\",\"L\"))\n",
    "print(\"hello\".replace(\"l\",\"L\",1))"
   ]
  },
  {
   "cell_type": "code",
   "execution_count": 12,
   "metadata": {},
   "outputs": [
    {
     "name": "stdout",
     "output_type": "stream",
     "text": [
      "0\n",
      "6\n",
      "0\n"
     ]
    }
   ],
   "source": [
    "#6. rfind(str, beg=0, end=len(string)): Provides the same \n",
    "#functionality as find(), but searches backward from \n",
    "#the end of the string instead of the beginning.\n",
    "\n",
    "print(\"Hello Python\".rfind(\"H\"))\n",
    "print(\"Hello Hython\".rfind(\"H\"))\n",
    "print(\"Hello Hython\".find(\"H\"))\n"
   ]
  },
  {
   "cell_type": "code",
   "execution_count": 154,
   "metadata": {
    "collapsed": true
   },
   "outputs": [],
   "source": [
    "#7. rindex(str, beg=0, end=len(string)): Provides the same functionality as index(), \n",
    "#but searches backward from the end of the string instead of the beginning.\n"
   ]
  },
  {
   "cell_type": "markdown",
   "metadata": {},
   "source": [
    "### Formatting String\n",
    "You can format strings in a number of ways using Python. The main emphasis of formatting is to present the string in a form that is both pleasing to the user and easy to understand. Formatting doesn’t mean adding special fonts or effects in this case, but refers merely to the presentation of the data. For example, the user might want a fixed-point number rather than a decimal number as output.\n",
    "\n",
    "You create a formatting specification as part of the string and then use the format() function to add data to that string. A format specification may be as simple as two curly brackets {} that specify a placeholder for data. You can number the placeholder to create special effects. For example, {0} would contain the first data element in a string. When the data elements are numbered, you can even repeat them so that the same data appears more than once in the string.\n"
   ]
  },
  {
   "cell_type": "code",
   "execution_count": 19,
   "metadata": {},
   "outputs": [
    {
     "name": "stdout",
     "output_type": "stream",
     "text": [
      "A blue car and a blue truck.\n",
      "2018-05-26 12:37:41.463094\n",
      "5/26/2018\n"
     ]
    }
   ],
   "source": [
    "\n",
    "Formatted = \"A {0} {1} and a {0} {2}.\"\n",
    "print(Formatted.format(\"blue\", \"car\", \"truck\"))\n",
    "\n",
    "\n",
    "import datetime\n",
    "\n",
    "dt = datetime.datetime.now()\n",
    "print(dt)\n",
    "print('{0}/{1}/{2}'.format(dt.month, dt.day, dt.year))\n"
   ]
  },
  {
   "cell_type": "code",
   "execution_count": null,
   "metadata": {
    "collapsed": true
   },
   "outputs": [],
   "source": [
    "max()"
   ]
  }
 ],
 "metadata": {
  "kernelspec": {
   "display_name": "Python 3",
   "language": "python",
   "name": "python3"
  },
  "language_info": {
   "codemirror_mode": {
    "name": "ipython",
    "version": 3
   },
   "file_extension": ".py",
   "mimetype": "text/x-python",
   "name": "python",
   "nbconvert_exporter": "python",
   "pygments_lexer": "ipython3",
   "version": "3.6.4"
  }
 },
 "nbformat": 4,
 "nbformat_minor": 2
}
